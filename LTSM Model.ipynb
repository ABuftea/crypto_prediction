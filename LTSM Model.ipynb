{
 "cells": [
  {
   "cell_type": "code",
   "execution_count": 697,
   "metadata": {},
   "outputs": [],
   "source": [
    "import pandas as pd\n",
    "import numpy as np\n",
    "import tensorflow as tf\n",
    "from tensorflow import keras\n",
    "from keras.models import Sequential\n",
    "from keras.layers import Dense\n",
    "from keras.layers import LSTM\n",
    "import keras_tuner as kt\n",
    "from sklearn.preprocessing import MinMaxScaler\n",
    "from sklearn import metrics\n",
    "import matplotlib.pyplot as plt\n",
    "import matplotlib.dates as mdates\n",
    "plt.style.use('seaborn-whitegrid')\n",
    "import seaborn as sb\n",
    "import datetime as dt\n",
    "import timeit"
   ]
  },
  {
   "cell_type": "code",
   "execution_count": 670,
   "metadata": {},
   "outputs": [
    {
     "name": "stdout",
     "output_type": "stream",
     "text": [
      "588\n"
     ]
    },
    {
     "data": {
      "text/html": [
       "<div>\n",
       "<style scoped>\n",
       "    .dataframe tbody tr th:only-of-type {\n",
       "        vertical-align: middle;\n",
       "    }\n",
       "\n",
       "    .dataframe tbody tr th {\n",
       "        vertical-align: top;\n",
       "    }\n",
       "\n",
       "    .dataframe thead th {\n",
       "        text-align: right;\n",
       "    }\n",
       "</style>\n",
       "<table border=\"1\" class=\"dataframe\">\n",
       "  <thead>\n",
       "    <tr style=\"text-align: right;\">\n",
       "      <th></th>\n",
       "      <th>volume_traded</th>\n",
       "      <th>Bullish</th>\n",
       "      <th>Positive</th>\n",
       "      <th>Negative</th>\n",
       "      <th>Hopeful</th>\n",
       "      <th>Euphoric/Excited</th>\n",
       "      <th>Long_term_investing</th>\n",
       "      <th>price_open</th>\n",
       "      <th>trades_count</th>\n",
       "      <th>Selling</th>\n",
       "      <th>...</th>\n",
       "      <th>Optimistic</th>\n",
       "      <th>price_high</th>\n",
       "      <th>rsi</th>\n",
       "      <th>bolinger_high</th>\n",
       "      <th>bolinger_low</th>\n",
       "      <th>bolinger_middle</th>\n",
       "      <th>macd</th>\n",
       "      <th>vortex</th>\n",
       "      <th>stoch</th>\n",
       "      <th>movement</th>\n",
       "    </tr>\n",
       "    <tr>\n",
       "      <th>time_period</th>\n",
       "      <th></th>\n",
       "      <th></th>\n",
       "      <th></th>\n",
       "      <th></th>\n",
       "      <th></th>\n",
       "      <th></th>\n",
       "      <th></th>\n",
       "      <th></th>\n",
       "      <th></th>\n",
       "      <th></th>\n",
       "      <th></th>\n",
       "      <th></th>\n",
       "      <th></th>\n",
       "      <th></th>\n",
       "      <th></th>\n",
       "      <th></th>\n",
       "      <th></th>\n",
       "      <th></th>\n",
       "      <th></th>\n",
       "      <th></th>\n",
       "      <th></th>\n",
       "    </tr>\n",
       "  </thead>\n",
       "  <tbody>\n",
       "    <tr>\n",
       "      <th>12/28/2020</th>\n",
       "      <td>25763.51754</td>\n",
       "      <td>89</td>\n",
       "      <td>166</td>\n",
       "      <td>122</td>\n",
       "      <td>12</td>\n",
       "      <td>27</td>\n",
       "      <td>79</td>\n",
       "      <td>684.42</td>\n",
       "      <td>15333</td>\n",
       "      <td>35</td>\n",
       "      <td>...</td>\n",
       "      <td>44</td>\n",
       "      <td>746.98</td>\n",
       "      <td>0.000000</td>\n",
       "      <td>0.000000</td>\n",
       "      <td>0.000000</td>\n",
       "      <td>0.000000</td>\n",
       "      <td>0.000000</td>\n",
       "      <td>0.000000</td>\n",
       "      <td>0.000000</td>\n",
       "      <td>0.000000e+00</td>\n",
       "    </tr>\n",
       "    <tr>\n",
       "      <th>12/29/2020</th>\n",
       "      <td>16248.29869</td>\n",
       "      <td>56</td>\n",
       "      <td>144</td>\n",
       "      <td>133</td>\n",
       "      <td>10</td>\n",
       "      <td>13</td>\n",
       "      <td>53</td>\n",
       "      <td>729.02</td>\n",
       "      <td>11362</td>\n",
       "      <td>26</td>\n",
       "      <td>...</td>\n",
       "      <td>35</td>\n",
       "      <td>739.09</td>\n",
       "      <td>0.000000</td>\n",
       "      <td>0.000000</td>\n",
       "      <td>0.000000</td>\n",
       "      <td>0.000000</td>\n",
       "      <td>0.000000</td>\n",
       "      <td>0.000000</td>\n",
       "      <td>0.000000</td>\n",
       "      <td>-2.445256e+05</td>\n",
       "    </tr>\n",
       "    <tr>\n",
       "      <th>12/30/2020</th>\n",
       "      <td>14385.47579</td>\n",
       "      <td>66</td>\n",
       "      <td>101</td>\n",
       "      <td>53</td>\n",
       "      <td>7</td>\n",
       "      <td>19</td>\n",
       "      <td>36</td>\n",
       "      <td>731.79</td>\n",
       "      <td>9679</td>\n",
       "      <td>16</td>\n",
       "      <td>...</td>\n",
       "      <td>26</td>\n",
       "      <td>758.60</td>\n",
       "      <td>0.000000</td>\n",
       "      <td>0.000000</td>\n",
       "      <td>0.000000</td>\n",
       "      <td>0.000000</td>\n",
       "      <td>0.000000</td>\n",
       "      <td>0.000000</td>\n",
       "      <td>0.000000</td>\n",
       "      <td>1.050903e+07</td>\n",
       "    </tr>\n",
       "    <tr>\n",
       "      <th>12/31/2020</th>\n",
       "      <td>18938.33743</td>\n",
       "      <td>48</td>\n",
       "      <td>112</td>\n",
       "      <td>89</td>\n",
       "      <td>12</td>\n",
       "      <td>20</td>\n",
       "      <td>39</td>\n",
       "      <td>752.50</td>\n",
       "      <td>9639</td>\n",
       "      <td>11</td>\n",
       "      <td>...</td>\n",
       "      <td>35</td>\n",
       "      <td>756.04</td>\n",
       "      <td>0.000000</td>\n",
       "      <td>0.000000</td>\n",
       "      <td>0.000000</td>\n",
       "      <td>0.000000</td>\n",
       "      <td>0.000000</td>\n",
       "      <td>0.000000</td>\n",
       "      <td>0.000000</td>\n",
       "      <td>1.680988e+06</td>\n",
       "    </tr>\n",
       "    <tr>\n",
       "      <th>01/01/2021</th>\n",
       "      <td>15129.68596</td>\n",
       "      <td>24</td>\n",
       "      <td>83</td>\n",
       "      <td>74</td>\n",
       "      <td>3</td>\n",
       "      <td>16</td>\n",
       "      <td>28</td>\n",
       "      <td>736.90</td>\n",
       "      <td>7544</td>\n",
       "      <td>12</td>\n",
       "      <td>...</td>\n",
       "      <td>28</td>\n",
       "      <td>750.39</td>\n",
       "      <td>0.000000</td>\n",
       "      <td>0.000000</td>\n",
       "      <td>0.000000</td>\n",
       "      <td>0.000000</td>\n",
       "      <td>0.000000</td>\n",
       "      <td>0.000000</td>\n",
       "      <td>0.000000</td>\n",
       "      <td>-3.011855e+06</td>\n",
       "    </tr>\n",
       "    <tr>\n",
       "      <th>01/02/2021</th>\n",
       "      <td>26362.64832</td>\n",
       "      <td>75</td>\n",
       "      <td>129</td>\n",
       "      <td>106</td>\n",
       "      <td>10</td>\n",
       "      <td>24</td>\n",
       "      <td>45</td>\n",
       "      <td>731.19</td>\n",
       "      <td>13326</td>\n",
       "      <td>19</td>\n",
       "      <td>...</td>\n",
       "      <td>34</td>\n",
       "      <td>788.89</td>\n",
       "      <td>0.000000</td>\n",
       "      <td>0.000000</td>\n",
       "      <td>0.000000</td>\n",
       "      <td>0.000000</td>\n",
       "      <td>0.000000</td>\n",
       "      <td>0.000000</td>\n",
       "      <td>0.000000</td>\n",
       "      <td>1.092775e+07</td>\n",
       "    </tr>\n",
       "    <tr>\n",
       "      <th>01/03/2021</th>\n",
       "      <td>86710.73835</td>\n",
       "      <td>169</td>\n",
       "      <td>325</td>\n",
       "      <td>191</td>\n",
       "      <td>27</td>\n",
       "      <td>88</td>\n",
       "      <td>104</td>\n",
       "      <td>775.24</td>\n",
       "      <td>38600</td>\n",
       "      <td>58</td>\n",
       "      <td>...</td>\n",
       "      <td>42</td>\n",
       "      <td>1021.85</td>\n",
       "      <td>94.762168</td>\n",
       "      <td>860.170556</td>\n",
       "      <td>692.180873</td>\n",
       "      <td>776.175714</td>\n",
       "      <td>0.000000</td>\n",
       "      <td>0.000000</td>\n",
       "      <td>87.299865</td>\n",
       "      <td>9.340068e+07</td>\n",
       "    </tr>\n",
       "    <tr>\n",
       "      <th>01/04/2021</th>\n",
       "      <td>88682.01485</td>\n",
       "      <td>120</td>\n",
       "      <td>261</td>\n",
       "      <td>212</td>\n",
       "      <td>9</td>\n",
       "      <td>59</td>\n",
       "      <td>100</td>\n",
       "      <td>980.02</td>\n",
       "      <td>50719</td>\n",
       "      <td>42</td>\n",
       "      <td>...</td>\n",
       "      <td>55</td>\n",
       "      <td>1168.00</td>\n",
       "      <td>95.899571</td>\n",
       "      <td>942.758774</td>\n",
       "      <td>699.075511</td>\n",
       "      <td>820.917143</td>\n",
       "      <td>0.000000</td>\n",
       "      <td>0.456131</td>\n",
       "      <td>73.811308</td>\n",
       "      <td>7.302116e+07</td>\n",
       "    </tr>\n",
       "    <tr>\n",
       "      <th>01/05/2021</th>\n",
       "      <td>48366.89405</td>\n",
       "      <td>105</td>\n",
       "      <td>205</td>\n",
       "      <td>177</td>\n",
       "      <td>11</td>\n",
       "      <td>46</td>\n",
       "      <td>58</td>\n",
       "      <td>1043.99</td>\n",
       "      <td>32159</td>\n",
       "      <td>19</td>\n",
       "      <td>...</td>\n",
       "      <td>58</td>\n",
       "      <td>1135.42</td>\n",
       "      <td>96.695249</td>\n",
       "      <td>1023.060747</td>\n",
       "      <td>724.999253</td>\n",
       "      <td>874.030000</td>\n",
       "      <td>0.000000</td>\n",
       "      <td>0.551201</td>\n",
       "      <td>85.744848</td>\n",
       "      <td>1.357327e+07</td>\n",
       "    </tr>\n",
       "    <tr>\n",
       "      <th>01/06/2021</th>\n",
       "      <td>51948.05131</td>\n",
       "      <td>106</td>\n",
       "      <td>185</td>\n",
       "      <td>110</td>\n",
       "      <td>14</td>\n",
       "      <td>48</td>\n",
       "      <td>86</td>\n",
       "      <td>1103.50</td>\n",
       "      <td>33189</td>\n",
       "      <td>32</td>\n",
       "      <td>...</td>\n",
       "      <td>30</td>\n",
       "      <td>1216.65</td>\n",
       "      <td>97.641192</td>\n",
       "      <td>1118.093176</td>\n",
       "      <td>760.792538</td>\n",
       "      <td>939.442857</td>\n",
       "      <td>0.000000</td>\n",
       "      <td>0.537977</td>\n",
       "      <td>98.648837</td>\n",
       "      <td>3.923449e+07</td>\n",
       "    </tr>\n",
       "    <tr>\n",
       "      <th>01/07/2021</th>\n",
       "      <td>50785.01095</td>\n",
       "      <td>86</td>\n",
       "      <td>148</td>\n",
       "      <td>110</td>\n",
       "      <td>16</td>\n",
       "      <td>28</td>\n",
       "      <td>67</td>\n",
       "      <td>1212.62</td>\n",
       "      <td>29682</td>\n",
       "      <td>35</td>\n",
       "      <td>...</td>\n",
       "      <td>32</td>\n",
       "      <td>1294.91</td>\n",
       "      <td>97.752074</td>\n",
       "      <td>1190.641633</td>\n",
       "      <td>827.795510</td>\n",
       "      <td>1009.218571</td>\n",
       "      <td>0.000000</td>\n",
       "      <td>0.566155</td>\n",
       "      <td>88.068270</td>\n",
       "      <td>1.380818e+07</td>\n",
       "    </tr>\n",
       "    <tr>\n",
       "      <th>01/08/2021</th>\n",
       "      <td>55425.91834</td>\n",
       "      <td>77</td>\n",
       "      <td>125</td>\n",
       "      <td>72</td>\n",
       "      <td>4</td>\n",
       "      <td>26</td>\n",
       "      <td>71</td>\n",
       "      <td>1226.49</td>\n",
       "      <td>32663</td>\n",
       "      <td>28</td>\n",
       "      <td>...</td>\n",
       "      <td>29</td>\n",
       "      <td>1275.00</td>\n",
       "      <td>94.799494</td>\n",
       "      <td>1230.857046</td>\n",
       "      <td>926.414383</td>\n",
       "      <td>1078.635714</td>\n",
       "      <td>0.000000</td>\n",
       "      <td>0.629751</td>\n",
       "      <td>86.475268</td>\n",
       "      <td>1.112242e+07</td>\n",
       "    </tr>\n",
       "    <tr>\n",
       "      <th>01/09/2021</th>\n",
       "      <td>29911.63100</td>\n",
       "      <td>77</td>\n",
       "      <td>160</td>\n",
       "      <td>106</td>\n",
       "      <td>15</td>\n",
       "      <td>36</td>\n",
       "      <td>51</td>\n",
       "      <td>1217.70</td>\n",
       "      <td>21356</td>\n",
       "      <td>18</td>\n",
       "      <td>...</td>\n",
       "      <td>25</td>\n",
       "      <td>1308.26</td>\n",
       "      <td>95.834777</td>\n",
       "      <td>1253.615701</td>\n",
       "      <td>1048.052871</td>\n",
       "      <td>1150.834286</td>\n",
       "      <td>0.000000</td>\n",
       "      <td>0.649060</td>\n",
       "      <td>94.775828</td>\n",
       "      <td>4.484735e+07</td>\n",
       "    </tr>\n",
       "    <tr>\n",
       "      <th>01/10/2021</th>\n",
       "      <td>57780.80793</td>\n",
       "      <td>86</td>\n",
       "      <td>166</td>\n",
       "      <td>135</td>\n",
       "      <td>17</td>\n",
       "      <td>27</td>\n",
       "      <td>65</td>\n",
       "      <td>1281.01</td>\n",
       "      <td>35595</td>\n",
       "      <td>26</td>\n",
       "      <td>...</td>\n",
       "      <td>31</td>\n",
       "      <td>1351.50</td>\n",
       "      <td>88.123762</td>\n",
       "      <td>1270.106070</td>\n",
       "      <td>1110.902502</td>\n",
       "      <td>1190.504286</td>\n",
       "      <td>182.527750</td>\n",
       "      <td>0.767886</td>\n",
       "      <td>79.445523</td>\n",
       "      <td>7.890774e+06</td>\n",
       "    </tr>\n",
       "    <tr>\n",
       "      <th>01/11/2021</th>\n",
       "      <td>140653.08015</td>\n",
       "      <td>84</td>\n",
       "      <td>145</td>\n",
       "      <td>156</td>\n",
       "      <td>16</td>\n",
       "      <td>19</td>\n",
       "      <td>90</td>\n",
       "      <td>1255.39</td>\n",
       "      <td>65237</td>\n",
       "      <td>38</td>\n",
       "      <td>...</td>\n",
       "      <td>27</td>\n",
       "      <td>1260.12</td>\n",
       "      <td>52.858556</td>\n",
       "      <td>1265.392006</td>\n",
       "      <td>1128.256566</td>\n",
       "      <td>1196.824286</td>\n",
       "      <td>119.676974</td>\n",
       "      <td>0.938188</td>\n",
       "      <td>39.963760</td>\n",
       "      <td>-9.133647e+07</td>\n",
       "    </tr>\n",
       "    <tr>\n",
       "      <th>01/12/2021</th>\n",
       "      <td>57895.78435</td>\n",
       "      <td>69</td>\n",
       "      <td>147</td>\n",
       "      <td>108</td>\n",
       "      <td>15</td>\n",
       "      <td>36</td>\n",
       "      <td>47</td>\n",
       "      <td>1087.18</td>\n",
       "      <td>27440</td>\n",
       "      <td>19</td>\n",
       "      <td>...</td>\n",
       "      <td>34</td>\n",
       "      <td>1150.70</td>\n",
       "      <td>47.882951</td>\n",
       "      <td>1269.804796</td>\n",
       "      <td>1108.400918</td>\n",
       "      <td>1189.102857</td>\n",
       "      <td>70.534465</td>\n",
       "      <td>0.989638</td>\n",
       "      <td>31.404304</td>\n",
       "      <td>-3.535519e+06</td>\n",
       "    </tr>\n",
       "    <tr>\n",
       "      <th>01/13/2021</th>\n",
       "      <td>37266.08719</td>\n",
       "      <td>60</td>\n",
       "      <td>120</td>\n",
       "      <td>73</td>\n",
       "      <td>14</td>\n",
       "      <td>15</td>\n",
       "      <td>44</td>\n",
       "      <td>1049.31</td>\n",
       "      <td>20490</td>\n",
       "      <td>15</td>\n",
       "      <td>...</td>\n",
       "      <td>22</td>\n",
       "      <td>1136.92</td>\n",
       "      <td>57.495284</td>\n",
       "      <td>1260.071940</td>\n",
       "      <td>1094.305203</td>\n",
       "      <td>1177.188571</td>\n",
       "      <td>61.970522</td>\n",
       "      <td>1.054293</td>\n",
       "      <td>49.030578</td>\n",
       "      <td>-1.243958e+07</td>\n",
       "    </tr>\n",
       "    <tr>\n",
       "      <th>01/14/2021</th>\n",
       "      <td>48922.97282</td>\n",
       "      <td>71</td>\n",
       "      <td>132</td>\n",
       "      <td>74</td>\n",
       "      <td>12</td>\n",
       "      <td>29</td>\n",
       "      <td>63</td>\n",
       "      <td>1130.00</td>\n",
       "      <td>28730</td>\n",
       "      <td>20</td>\n",
       "      <td>...</td>\n",
       "      <td>29</td>\n",
       "      <td>1246.41</td>\n",
       "      <td>66.915858</td>\n",
       "      <td>1260.930964</td>\n",
       "      <td>1094.517608</td>\n",
       "      <td>1177.724286</td>\n",
       "      <td>81.673511</td>\n",
       "      <td>1.036080</td>\n",
       "      <td>72.355606</td>\n",
       "      <td>5.848099e+07</td>\n",
       "    </tr>\n",
       "    <tr>\n",
       "      <th>01/15/2021</th>\n",
       "      <td>58864.46004</td>\n",
       "      <td>73</td>\n",
       "      <td>136</td>\n",
       "      <td>102</td>\n",
       "      <td>17</td>\n",
       "      <td>22</td>\n",
       "      <td>68</td>\n",
       "      <td>1231.38</td>\n",
       "      <td>33230</td>\n",
       "      <td>19</td>\n",
       "      <td>...</td>\n",
       "      <td>30</td>\n",
       "      <td>1255.00</td>\n",
       "      <td>58.000137</td>\n",
       "      <td>1252.475597</td>\n",
       "      <td>1089.121546</td>\n",
       "      <td>1170.798571</td>\n",
       "      <td>71.237811</td>\n",
       "      <td>1.015032</td>\n",
       "      <td>58.489241</td>\n",
       "      <td>-5.630257e+06</td>\n",
       "    </tr>\n",
       "    <tr>\n",
       "      <th>01/16/2021</th>\n",
       "      <td>45301.65087</td>\n",
       "      <td>88</td>\n",
       "      <td>147</td>\n",
       "      <td>83</td>\n",
       "      <td>12</td>\n",
       "      <td>22</td>\n",
       "      <td>58</td>\n",
       "      <td>1169.68</td>\n",
       "      <td>29581</td>\n",
       "      <td>19</td>\n",
       "      <td>...</td>\n",
       "      <td>22</td>\n",
       "      <td>1292.45</td>\n",
       "      <td>63.484354</td>\n",
       "      <td>1236.506429</td>\n",
       "      <td>1090.022143</td>\n",
       "      <td>1163.264286</td>\n",
       "      <td>77.785230</td>\n",
       "      <td>1.011836</td>\n",
       "      <td>71.886750</td>\n",
       "      <td>3.111763e+07</td>\n",
       "    </tr>\n",
       "  </tbody>\n",
       "</table>\n",
       "<p>20 rows × 23 columns</p>\n",
       "</div>"
      ],
      "text/plain": [
       "             volume_traded  Bullish  Positive  Negative  Hopeful  \\\n",
       "time_period                                                        \n",
       "12/28/2020     25763.51754       89       166       122       12   \n",
       "12/29/2020     16248.29869       56       144       133       10   \n",
       "12/30/2020     14385.47579       66       101        53        7   \n",
       "12/31/2020     18938.33743       48       112        89       12   \n",
       "01/01/2021     15129.68596       24        83        74        3   \n",
       "01/02/2021     26362.64832       75       129       106       10   \n",
       "01/03/2021     86710.73835      169       325       191       27   \n",
       "01/04/2021     88682.01485      120       261       212        9   \n",
       "01/05/2021     48366.89405      105       205       177       11   \n",
       "01/06/2021     51948.05131      106       185       110       14   \n",
       "01/07/2021     50785.01095       86       148       110       16   \n",
       "01/08/2021     55425.91834       77       125        72        4   \n",
       "01/09/2021     29911.63100       77       160       106       15   \n",
       "01/10/2021     57780.80793       86       166       135       17   \n",
       "01/11/2021    140653.08015       84       145       156       16   \n",
       "01/12/2021     57895.78435       69       147       108       15   \n",
       "01/13/2021     37266.08719       60       120        73       14   \n",
       "01/14/2021     48922.97282       71       132        74       12   \n",
       "01/15/2021     58864.46004       73       136       102       17   \n",
       "01/16/2021     45301.65087       88       147        83       12   \n",
       "\n",
       "             Euphoric/Excited  Long_term_investing  price_open  trades_count  \\\n",
       "time_period                                                                    \n",
       "12/28/2020                 27                   79      684.42         15333   \n",
       "12/29/2020                 13                   53      729.02         11362   \n",
       "12/30/2020                 19                   36      731.79          9679   \n",
       "12/31/2020                 20                   39      752.50          9639   \n",
       "01/01/2021                 16                   28      736.90          7544   \n",
       "01/02/2021                 24                   45      731.19         13326   \n",
       "01/03/2021                 88                  104      775.24         38600   \n",
       "01/04/2021                 59                  100      980.02         50719   \n",
       "01/05/2021                 46                   58     1043.99         32159   \n",
       "01/06/2021                 48                   86     1103.50         33189   \n",
       "01/07/2021                 28                   67     1212.62         29682   \n",
       "01/08/2021                 26                   71     1226.49         32663   \n",
       "01/09/2021                 36                   51     1217.70         21356   \n",
       "01/10/2021                 27                   65     1281.01         35595   \n",
       "01/11/2021                 19                   90     1255.39         65237   \n",
       "01/12/2021                 36                   47     1087.18         27440   \n",
       "01/13/2021                 15                   44     1049.31         20490   \n",
       "01/14/2021                 29                   63     1130.00         28730   \n",
       "01/15/2021                 22                   68     1231.38         33230   \n",
       "01/16/2021                 22                   58     1169.68         29581   \n",
       "\n",
       "             Selling  ...  Optimistic  price_high        rsi  bolinger_high  \\\n",
       "time_period           ...                                                     \n",
       "12/28/2020        35  ...          44      746.98   0.000000       0.000000   \n",
       "12/29/2020        26  ...          35      739.09   0.000000       0.000000   \n",
       "12/30/2020        16  ...          26      758.60   0.000000       0.000000   \n",
       "12/31/2020        11  ...          35      756.04   0.000000       0.000000   \n",
       "01/01/2021        12  ...          28      750.39   0.000000       0.000000   \n",
       "01/02/2021        19  ...          34      788.89   0.000000       0.000000   \n",
       "01/03/2021        58  ...          42     1021.85  94.762168     860.170556   \n",
       "01/04/2021        42  ...          55     1168.00  95.899571     942.758774   \n",
       "01/05/2021        19  ...          58     1135.42  96.695249    1023.060747   \n",
       "01/06/2021        32  ...          30     1216.65  97.641192    1118.093176   \n",
       "01/07/2021        35  ...          32     1294.91  97.752074    1190.641633   \n",
       "01/08/2021        28  ...          29     1275.00  94.799494    1230.857046   \n",
       "01/09/2021        18  ...          25     1308.26  95.834777    1253.615701   \n",
       "01/10/2021        26  ...          31     1351.50  88.123762    1270.106070   \n",
       "01/11/2021        38  ...          27     1260.12  52.858556    1265.392006   \n",
       "01/12/2021        19  ...          34     1150.70  47.882951    1269.804796   \n",
       "01/13/2021        15  ...          22     1136.92  57.495284    1260.071940   \n",
       "01/14/2021        20  ...          29     1246.41  66.915858    1260.930964   \n",
       "01/15/2021        19  ...          30     1255.00  58.000137    1252.475597   \n",
       "01/16/2021        19  ...          22     1292.45  63.484354    1236.506429   \n",
       "\n",
       "             bolinger_low  bolinger_middle        macd    vortex      stoch  \\\n",
       "time_period                                                                   \n",
       "12/28/2020       0.000000         0.000000    0.000000  0.000000   0.000000   \n",
       "12/29/2020       0.000000         0.000000    0.000000  0.000000   0.000000   \n",
       "12/30/2020       0.000000         0.000000    0.000000  0.000000   0.000000   \n",
       "12/31/2020       0.000000         0.000000    0.000000  0.000000   0.000000   \n",
       "01/01/2021       0.000000         0.000000    0.000000  0.000000   0.000000   \n",
       "01/02/2021       0.000000         0.000000    0.000000  0.000000   0.000000   \n",
       "01/03/2021     692.180873       776.175714    0.000000  0.000000  87.299865   \n",
       "01/04/2021     699.075511       820.917143    0.000000  0.456131  73.811308   \n",
       "01/05/2021     724.999253       874.030000    0.000000  0.551201  85.744848   \n",
       "01/06/2021     760.792538       939.442857    0.000000  0.537977  98.648837   \n",
       "01/07/2021     827.795510      1009.218571    0.000000  0.566155  88.068270   \n",
       "01/08/2021     926.414383      1078.635714    0.000000  0.629751  86.475268   \n",
       "01/09/2021    1048.052871      1150.834286    0.000000  0.649060  94.775828   \n",
       "01/10/2021    1110.902502      1190.504286  182.527750  0.767886  79.445523   \n",
       "01/11/2021    1128.256566      1196.824286  119.676974  0.938188  39.963760   \n",
       "01/12/2021    1108.400918      1189.102857   70.534465  0.989638  31.404304   \n",
       "01/13/2021    1094.305203      1177.188571   61.970522  1.054293  49.030578   \n",
       "01/14/2021    1094.517608      1177.724286   81.673511  1.036080  72.355606   \n",
       "01/15/2021    1089.121546      1170.798571   71.237811  1.015032  58.489241   \n",
       "01/16/2021    1090.022143      1163.264286   77.785230  1.011836  71.886750   \n",
       "\n",
       "                 movement  \n",
       "time_period                \n",
       "12/28/2020   0.000000e+00  \n",
       "12/29/2020  -2.445256e+05  \n",
       "12/30/2020   1.050903e+07  \n",
       "12/31/2020   1.680988e+06  \n",
       "01/01/2021  -3.011855e+06  \n",
       "01/02/2021   1.092775e+07  \n",
       "01/03/2021   9.340068e+07  \n",
       "01/04/2021   7.302116e+07  \n",
       "01/05/2021   1.357327e+07  \n",
       "01/06/2021   3.923449e+07  \n",
       "01/07/2021   1.380818e+07  \n",
       "01/08/2021   1.112242e+07  \n",
       "01/09/2021   4.484735e+07  \n",
       "01/10/2021   7.890774e+06  \n",
       "01/11/2021  -9.133647e+07  \n",
       "01/12/2021  -3.535519e+06  \n",
       "01/13/2021  -1.243958e+07  \n",
       "01/14/2021   5.848099e+07  \n",
       "01/15/2021  -5.630257e+06  \n",
       "01/16/2021   3.111763e+07  \n",
       "\n",
       "[20 rows x 23 columns]"
      ]
     },
     "execution_count": 670,
     "metadata": {},
     "output_type": "execute_result"
    }
   ],
   "source": [
    "dfData = pd.read_csv(\"dfData.csv\")\n",
    "dfData.set_index('time_period', inplace = True)\n",
    "dfData.fillna(value = 0, inplace=True)\n",
    "print(len(dfData))\n",
    "dfData.head(20)"
   ]
  },
  {
   "cell_type": "code",
   "execution_count": 671,
   "metadata": {},
   "outputs": [],
   "source": [
    "prediction_days = 35 #five weeks in advance (first week will be shifted in test)\n",
    "df_train = dfData[:len(dfData)-prediction_days+7]# adding one week since in test input will be shifted\n",
    "df_test = dfData[len(dfData)-prediction_days:]  "
   ]
  },
  {
   "cell_type": "code",
   "execution_count": 672,
   "metadata": {},
   "outputs": [
    {
     "name": "stdout",
     "output_type": "stream",
     "text": [
      "560\n",
      "35\n"
     ]
    }
   ],
   "source": [
    "print(len(df_train))\n",
    "print(len(df_test))"
   ]
  },
  {
   "cell_type": "code",
   "execution_count": 673,
   "metadata": {},
   "outputs": [
    {
     "name": "stdout",
     "output_type": "stream",
     "text": [
      "560\n"
     ]
    },
    {
     "data": {
      "text/plain": [
       "volume_traded          float64\n",
       "Bullish                  int64\n",
       "Positive                 int64\n",
       "Negative                 int64\n",
       "Hopeful                  int64\n",
       "Euphoric/Excited         int64\n",
       "Long_term_investing      int64\n",
       "price_open             float64\n",
       "trades_count             int64\n",
       "Selling                  int64\n",
       "price_low              float64\n",
       "Buying                   int64\n",
       "price_close            float64\n",
       "Optimistic               int64\n",
       "price_high             float64\n",
       "rsi                    float64\n",
       "bolinger_high          float64\n",
       "bolinger_low           float64\n",
       "bolinger_middle        float64\n",
       "macd                   float64\n",
       "vortex                 float64\n",
       "stoch                  float64\n",
       "movement               float64\n",
       "dtype: object"
      ]
     },
     "execution_count": 673,
     "metadata": {},
     "output_type": "execute_result"
    }
   ],
   "source": [
    "# Data preprocess\n",
    "training_set = df_train.to_numpy()\n",
    "print(len(training_set))\n",
    "dfData.dtypes"
   ]
  },
  {
   "cell_type": "code",
   "execution_count": 674,
   "metadata": {},
   "outputs": [],
   "source": [
    "def create_train_test_list(df_train, df_test, target, window):\n",
    "    target_index = df_train.columns.get_loc(target)\n",
    "    num_cols = len(df_train.columns)\n",
    "    trainList = []\n",
    "    testList = []\n",
    "    \n",
    "    for index in range(num_cols):\n",
    "        inputs = []\n",
    "        for i in range(0, df_train.shape[0]-window):\n",
    "            if index == target_index:\n",
    "                inputs.append(df_train.iloc[i+window, index])\n",
    "            else:\n",
    "                inputs.append(df_train.iloc[i:i+window, index])\n",
    "        trainList.append(inputs)\n",
    "        \n",
    "    for index in range(num_cols):\n",
    "        inputs = []\n",
    "        for i in range(0, df_test.shape[0]-window):\n",
    "            if index == target_index:\n",
    "                inputs.append(df_test.iloc[i+window, index])\n",
    "            else:\n",
    "                inputs.append(df_test.iloc[i:i+window, index])\n",
    "        testList.append(inputs)        \n",
    "    \n",
    "    return trainList, testList"
   ]
  },
  {
   "cell_type": "code",
   "execution_count": 675,
   "metadata": {},
   "outputs": [],
   "source": [
    "target = \"price_close\"\n",
    "trainList, testList = create_train_test_list(df_train, df_test, target, 7)"
   ]
  },
  {
   "cell_type": "code",
   "execution_count": 676,
   "metadata": {},
   "outputs": [
    {
     "name": "stdout",
     "output_type": "stream",
     "text": [
      "(553, 1)\n",
      "(28, 1)\n"
     ]
    }
   ],
   "source": [
    "target_index = df_train.columns.get_loc(target)\n",
    "y_train = trainList[target_index]\n",
    "y_train = np.reshape(y_train, (len(y_train), 1))\n",
    "y_test = testList[target_index]\n",
    "y_test = np.reshape(y_test, (len(y_test), 1))\n",
    "\n",
    "trainList[target_index] = y_train\n",
    "testList[target_index] = y_test\n",
    "\n",
    "scaler_x = MinMaxScaler()\n",
    "scaler_y = MinMaxScaler()\n",
    "\n",
    "for i in range(len(trainList)):\n",
    "    if i == target_index:\n",
    "        trainList[i] = scaler_y.fit_transform(trainList[i])\n",
    "    else:\n",
    "        trainList[i] = scaler_x.fit_transform(trainList[i])\n",
    "        \n",
    "\n",
    "for i in range(len(testList)):\n",
    "    if i == target_index:\n",
    "        testList[i] = scaler_y.fit_transform(testList[i])\n",
    "    else:\n",
    "        testList[i] = scaler_x.fit_transform(testList[i])\n",
    "    \n",
    "y_train = trainList[target_index]\n",
    "y_test = testList[target_index]\n",
    "\n",
    "print(y_train.shape)\n",
    "print(y_test.shape)"
   ]
  },
  {
   "cell_type": "code",
   "execution_count": 677,
   "metadata": {},
   "outputs": [],
   "source": [
    "del trainList[target_index]\n",
    "del testList[target_index]"
   ]
  },
  {
   "cell_type": "code",
   "execution_count": 678,
   "metadata": {},
   "outputs": [],
   "source": [
    "x_train = np.stack(trainList, axis=2)\n",
    "x_test = np.stack(testList, axis=2)"
   ]
  },
  {
   "cell_type": "code",
   "execution_count": 679,
   "metadata": {},
   "outputs": [
    {
     "name": "stdout",
     "output_type": "stream",
     "text": [
      "(553, 7, 22)\n",
      "(28, 7, 22)\n"
     ]
    }
   ],
   "source": [
    "print(x_train.shape)\n",
    "print(x_test.shape)"
   ]
  },
  {
   "cell_type": "markdown",
   "metadata": {},
   "source": [
    "# Final Model"
   ]
  },
  {
   "cell_type": "code",
   "execution_count": 693,
   "metadata": {
    "scrolled": true
   },
   "outputs": [
    {
     "name": "stdout",
     "output_type": "stream",
     "text": [
      "Model: \"sequential_148\"\n",
      "_________________________________________________________________\n",
      "Layer (type)                 Output Shape              Param #   \n",
      "=================================================================\n",
      "lstm_149 (LSTM)              (None, 350)               522200    \n",
      "_________________________________________________________________\n",
      "dense_296 (Dense)            (None, 40)                14040     \n",
      "_________________________________________________________________\n",
      "dense_297 (Dense)            (None, 1)                 41        \n",
      "=================================================================\n",
      "Total params: 536,281\n",
      "Trainable params: 536,281\n",
      "Non-trainable params: 0\n",
      "_________________________________________________________________\n"
     ]
    }
   ],
   "source": [
    "model = tf.keras.models.Sequential([\n",
    "  tf.keras.layers.LSTM(units=350, activation=\"relu\", return_sequences = False, input_shape=(x_train.shape[1], x_train.shape[2])),\n",
    "  tf.keras.layers.Dense(40, activation=\"relu\"),\n",
    "  tf.keras.layers.Dense(1)\n",
    "])\n",
    "model.summary()"
   ]
  },
  {
   "cell_type": "code",
   "execution_count": 694,
   "metadata": {},
   "outputs": [],
   "source": [
    "model.compile(loss=\"mean_squared_error\", optimizer=\"adam\", metrics=\"mae\")"
   ]
  },
  {
   "cell_type": "code",
   "execution_count": 695,
   "metadata": {},
   "outputs": [],
   "source": [
    "early_stopping = keras.callbacks.EarlyStopping(monitor='loss',\n",
    "                                                    patience=5,\n",
    "                                                    restore_best_weights=True)"
   ]
  },
  {
   "cell_type": "code",
   "execution_count": 698,
   "metadata": {},
   "outputs": [
    {
     "name": "stdout",
     "output_type": "stream",
     "text": [
      "Epoch 1/50\n",
      "277/277 [==============================] - 10s 20ms/step - loss: 0.0068 - mae: 0.0608\n",
      "Epoch 2/50\n",
      "277/277 [==============================] - 5s 20ms/step - loss: 0.0034 - mae: 0.0459\n",
      "Epoch 3/50\n",
      "277/277 [==============================] - 6s 20ms/step - loss: 0.0023 - mae: 0.0362\n",
      "Epoch 4/50\n",
      "277/277 [==============================] - 6s 20ms/step - loss: 0.0022 - mae: 0.0355: 0s - loss: 0.0022 - mae: 0.035\n",
      "Epoch 5/50\n",
      "277/277 [==============================] - 6s 20ms/step - loss: 0.0028 - mae: 0.0409\n",
      "Epoch 6/50\n",
      "277/277 [==============================] - 6s 20ms/step - loss: 0.0022 - mae: 0.0357\n",
      "Epoch 7/50\n",
      "277/277 [==============================] - 5s 20ms/step - loss: 0.0019 - mae: 0.0330\n",
      "Epoch 8/50\n",
      "277/277 [==============================] - 6s 20ms/step - loss: 0.0020 - mae: 0.0319\n",
      "Epoch 9/50\n",
      "277/277 [==============================] - 6s 20ms/step - loss: 0.0022 - mae: 0.0360: 0s - loss: 0.0020\n",
      "Epoch 10/50\n",
      "277/277 [==============================] - 6s 20ms/step - loss: 0.0017 - mae: 0.0305\n",
      "Epoch 11/50\n",
      "277/277 [==============================] - 6s 20ms/step - loss: 0.0019 - mae: 0.0320\n",
      "Epoch 12/50\n",
      "277/277 [==============================] - 6s 20ms/step - loss: 0.0021 - mae: 0.0347\n",
      "Epoch 13/50\n",
      "277/277 [==============================] - 6s 21ms/step - loss: 0.0018 - mae: 0.0319\n",
      "Epoch 14/50\n",
      "277/277 [==============================] - 6s 21ms/step - loss: 0.0017 - mae: 0.0306\n",
      "Epoch 15/50\n",
      "277/277 [==============================] - 6s 21ms/step - loss: 0.0019 - mae: 0.0320: 1s - loss: \n",
      "Epoch 16/50\n",
      "277/277 [==============================] - 6s 20ms/step - loss: 0.0018 - mae: 0.0319\n",
      "Epoch 17/50\n",
      "277/277 [==============================] - 6s 20ms/step - loss: 0.0017 - mae: 0.0324\n",
      "Time:  100.19069839996519\n"
     ]
    }
   ],
   "source": [
    "start = timeit.default_timer()\n",
    "model.fit(x_train,y_train, epochs=50, batch_size=2, callbacks=[early_stopping])\n",
    "stop = timeit.default_timer()\n",
    "print('Time: ', stop - start)  "
   ]
  },
  {
   "cell_type": "code",
   "execution_count": 699,
   "metadata": {},
   "outputs": [],
   "source": [
    "predictions = model.predict(x_test)\n",
    "unscalledPredictions = predictions.tolist()\n",
    "unscalledPredictions = scaler_y.inverse_transform(unscalledPredictions)"
   ]
  },
  {
   "cell_type": "code",
   "execution_count": 700,
   "metadata": {},
   "outputs": [
    {
     "data": {
      "text/plain": [
       "array([[1082.33618182],\n",
       "       [1058.12195358],\n",
       "       [1054.91338861],\n",
       "       [1075.57613584],\n",
       "       [1142.28985728],\n",
       "       [1164.86849206],\n",
       "       [1197.22817411],\n",
       "       [1232.17230732],\n",
       "       [1384.63963462],\n",
       "       [1472.82010361],\n",
       "       [1517.64903546],\n",
       "       [1502.51891679],\n",
       "       [1526.21327481],\n",
       "       [1504.307149  ],\n",
       "       [1598.35407131],\n",
       "       [1481.52401148],\n",
       "       [1450.08609174],\n",
       "       [1532.09126995],\n",
       "       [1691.37981332],\n",
       "       [1668.00483457],\n",
       "       [1659.21205051],\n",
       "       [1658.72896072],\n",
       "       [1629.47048675],\n",
       "       [1673.31082208],\n",
       "       [1637.3337584 ],\n",
       "       [1595.09852784],\n",
       "       [1689.95950269],\n",
       "       [1680.08791256]])"
      ]
     },
     "execution_count": 700,
     "metadata": {},
     "output_type": "execute_result"
    }
   ],
   "source": [
    "unscalledPredictions"
   ]
  },
  {
   "cell_type": "code",
   "execution_count": 701,
   "metadata": {},
   "outputs": [
    {
     "data": {
      "text/plain": [
       "array([[1095.55],\n",
       "       [1037.51],\n",
       "       [1114.67],\n",
       "       [1192.6 ],\n",
       "       [1230.89],\n",
       "       [1355.44],\n",
       "       [1338.12],\n",
       "       [1580.67],\n",
       "       [1542.41],\n",
       "       [1521.91],\n",
       "       [1575.49],\n",
       "       [1535.43],\n",
       "       [1548.89],\n",
       "       [1597.99],\n",
       "       [1441.61],\n",
       "       [1448.73],\n",
       "       [1636.54],\n",
       "       [1724.91],\n",
       "       [1722.54],\n",
       "       [1697.3 ],\n",
       "       [1678.95],\n",
       "       [1630.73],\n",
       "       [1631.03],\n",
       "       [1618.62],\n",
       "       [1608.23],\n",
       "       [1736.57],\n",
       "       [1690.33],\n",
       "       [1700.39]])"
      ]
     },
     "execution_count": 701,
     "metadata": {},
     "output_type": "execute_result"
    }
   ],
   "source": [
    "unscalledTest = y_test.tolist()\n",
    "unscalledTest = scaler_y.inverse_transform(unscalledTest)\n",
    "unscalledTest"
   ]
  },
  {
   "cell_type": "code",
   "execution_count": 702,
   "metadata": {},
   "outputs": [
    {
     "data": {
      "text/plain": [
       "348.4976926791669"
      ]
     },
     "execution_count": 702,
     "metadata": {},
     "output_type": "execute_result"
    }
   ],
   "source": [
    "metrics.max_error(unscalledTest, unscalledPredictions)"
   ]
  },
  {
   "cell_type": "code",
   "execution_count": 703,
   "metadata": {},
   "outputs": [
    {
     "data": {
      "text/plain": [
       "82.77287272603255"
      ]
     },
     "execution_count": 703,
     "metadata": {},
     "output_type": "execute_result"
    }
   ],
   "source": [
    "metrics.mean_absolute_error(unscalledTest, unscalledPredictions)"
   ]
  },
  {
   "cell_type": "code",
   "execution_count": 716,
   "metadata": {},
   "outputs": [
    {
     "data": {
      "text/plain": [
       "0.6800256104079136"
      ]
     },
     "execution_count": 716,
     "metadata": {},
     "output_type": "execute_result"
    }
   ],
   "source": [
    "metrics.r2_score(unscalledTest, unscalledPredictions)"
   ]
  },
  {
   "cell_type": "code",
   "execution_count": 717,
   "metadata": {},
   "outputs": [
    {
     "data": {
      "text/plain": [
       "51.89035923540587"
      ]
     },
     "execution_count": 717,
     "metadata": {},
     "output_type": "execute_result"
    }
   ],
   "source": [
    "metrics.median_absolute_error(unscalledTest, unscalledPredictions)"
   ]
  },
  {
   "cell_type": "code",
   "execution_count": null,
   "metadata": {},
   "outputs": [],
   "source": []
  },
  {
   "cell_type": "code",
   "execution_count": 704,
   "metadata": {},
   "outputs": [
    {
     "data": {
      "text/plain": [
       "28"
      ]
     },
     "execution_count": 704,
     "metadata": {},
     "output_type": "execute_result"
    }
   ],
   "source": [
    "startDate = dt.datetime(2022, 7, 11)\n",
    "endDate = startDate + dt.timedelta(days=28)\n",
    "\n",
    "days = mdates.drange(startDate,endDate,dt.timedelta(days=1))\n",
    "\n",
    "len(days)"
   ]
  },
  {
   "cell_type": "code",
   "execution_count": 705,
   "metadata": {},
   "outputs": [],
   "source": [
    "y_pred = np.reshape(unscalledPredictions, 28).tolist()\n",
    "y = np.reshape(unscalledTest, 28).tolist()"
   ]
  },
  {
   "cell_type": "code",
   "execution_count": 706,
   "metadata": {},
   "outputs": [],
   "source": [
    "base = dt.datetime(2022, 8, 7)\n",
    "date_list = [base - dt.timedelta(days=x) for x in range(28)]\n",
    "date_list.reverse()"
   ]
  },
  {
   "cell_type": "code",
   "execution_count": 707,
   "metadata": {},
   "outputs": [
    {
     "data": {
      "image/png": "[encoded data removed]",
      "text/plain": [
       "<Figure size 432x288 with 1 Axes>"
      ]
     },
     "metadata": {},
     "output_type": "display_data"
    },
    {
     "data": {
      "image/png": "[encoded data removed]",
      "text/plain": [
       "<Figure size 1080x720 with 1 Axes>"
      ]
     },
     "metadata": {},
     "output_type": "display_data"
    }
   ],
   "source": [
    "fig = plt.figure()\n",
    "ax = plt.axes()\n",
    "plt.subplots(figsize=(15,10))\n",
    "plt.title(\"Real Price / Predicted Price\")\n",
    "plt.xlabel(\"Date\")\n",
    "plt.ylabel(\"USD\")\n",
    "plt.plot(date_list, y, label=\"Real Price\")\n",
    "plt.plot(date_list, y_pred, label=\"Predicted Price\")\n",
    "plt.gcf().autofmt_xdate()\n",
    "plt.legend()\n",
    "plt.savefig('LTSMfinalPrediction.jpg')"
   ]
  },
  {
   "cell_type": "markdown",
   "metadata": {},
   "source": [
    "# Tunning"
   ]
  },
  {
   "cell_type": "code",
   "execution_count": 490,
   "metadata": {},
   "outputs": [
    {
     "name": "stdout",
     "output_type": "stream",
     "text": [
      "METRICS FOR LTSM 300 units and Dense 32 units. MAE: 380.647, MAX: 106.204\n",
      "METRICS FOR LTSM 300 units and Dense 36 units. MAE: 399.914, MAX: 113.663\n",
      "METRICS FOR LTSM 300 units and Dense 40 units. MAE: 355.099, MAX: 86.212\n",
      "METRICS FOR LTSM 300 units and Dense 44 units. MAE: 382.334, MAX: 88.810\n",
      "METRICS FOR LTSM 310 units and Dense 32 units. MAE: 384.698, MAX: 103.801\n",
      "METRICS FOR LTSM 310 units and Dense 36 units. MAE: 383.343, MAX: 96.201\n",
      "METRICS FOR LTSM 310 units and Dense 40 units. MAE: 398.718, MAX: 115.347\n",
      "METRICS FOR LTSM 310 units and Dense 44 units. MAE: 377.412, MAX: 105.532\n",
      "METRICS FOR LTSM 320 units and Dense 32 units. MAE: 398.778, MAX: 118.450\n",
      "METRICS FOR LTSM 320 units and Dense 36 units. MAE: 344.263, MAX: 79.605\n",
      "METRICS FOR LTSM 320 units and Dense 40 units. MAE: 384.947, MAX: 102.230\n",
      "METRICS FOR LTSM 320 units and Dense 44 units. MAE: 355.056, MAX: 94.162\n",
      "METRICS FOR LTSM 330 units and Dense 32 units. MAE: 384.411, MAX: 98.642\n",
      "METRICS FOR LTSM 330 units and Dense 36 units. MAE: 383.901, MAX: 95.608\n",
      "METRICS FOR LTSM 330 units and Dense 40 units. MAE: 363.394, MAX: 89.063\n",
      "METRICS FOR LTSM 330 units and Dense 44 units. MAE: 369.064, MAX: 91.664\n",
      "METRICS FOR LTSM 340 units and Dense 32 units. MAE: 335.949, MAX: 86.910\n",
      "METRICS FOR LTSM 340 units and Dense 36 units. MAE: 422.149, MAX: 123.094\n",
      "METRICS FOR LTSM 340 units and Dense 40 units. MAE: 376.697, MAX: 103.289\n",
      "METRICS FOR LTSM 340 units and Dense 44 units. MAE: 373.124, MAX: 108.734\n",
      "METRICS FOR LTSM 350 units and Dense 32 units. MAE: 400.355, MAX: 95.081\n",
      "METRICS FOR LTSM 350 units and Dense 36 units. MAE: 365.936, MAX: 95.480\n",
      "METRICS FOR LTSM 350 units and Dense 40 units. MAE: 341.027, MAX: 76.467\n",
      "METRICS FOR LTSM 350 units and Dense 44 units. MAE: 351.550, MAX: 96.419\n"
     ]
    }
   ],
   "source": [
    "early_stopping = keras.callbacks.EarlyStopping(monitor='loss',\n",
    "                                                    patience=5\n",
    "                                                    )    \n",
    "for ltsmNeurons in range(300, 360, 10):\n",
    "    for denseNeurons in range(32,46,4):\n",
    "        model = tf.keras.models.Sequential([\n",
    "        tf.keras.layers.LSTM(ltsmNeurons, return_sequences = False, input_shape=(x_train.shape[1], x_train.shape[2])),\n",
    "        tf.keras.layers.Dense(denseNeurons, activation=\"relu\"),\n",
    "        tf.keras.layers.Dense(1)\n",
    "        ])\n",
    "        model.compile(loss='mean_squared_error', optimizer='adam', metrics='mae')\n",
    "        model.fit(x_train,y_train, epochs=50, batch_size=2, callbacks=[early_stopping], verbose=False)\n",
    "        predictions = model.predict(x_test)\n",
    "        unscalledPredictions = predictions.tolist()\n",
    "        unscalledPredictions = scaler_y.inverse_transform(unscalledPredictions)\n",
    "        mae = metrics.max_error(unscalledTest, unscalledPredictions)\n",
    "        maxError = metrics.mean_absolute_error(unscalledTest, unscalledPredictions)\n",
    "        print(\"METRICS FOR LTSM {} units and Dense {} units. MAE: {:.3f}, MAX: {:.3f}\".format(ltsmNeurons, denseNeurons, mae, maxError))\n"
   ]
  },
  {
   "cell_type": "markdown",
   "metadata": {},
   "source": [
    "# Initial"
   ]
  },
  {
   "cell_type": "code",
   "execution_count": 477,
   "metadata": {},
   "outputs": [
    {
     "name": "stdout",
     "output_type": "stream",
     "text": [
      "Model: \"sequential_98\"\n",
      "_________________________________________________________________\n",
      "Layer (type)                 Output Shape              Param #   \n",
      "=================================================================\n",
      "lstm_99 (LSTM)               (None, 320)               439040    \n",
      "_________________________________________________________________\n",
      "dense_196 (Dense)            (None, 40)                12840     \n",
      "_________________________________________________________________\n",
      "dense_197 (Dense)            (None, 1)                 41        \n",
      "=================================================================\n",
      "Total params: 451,921\n",
      "Trainable params: 451,921\n",
      "Non-trainable params: 0\n",
      "_________________________________________________________________\n"
     ]
    }
   ],
   "source": [
    "model = tf.keras.models.Sequential([\n",
    "  tf.keras.layers.LSTM(units=320, return_sequences = False, input_shape=(x_train.shape[1], x_train.shape[2])),\n",
    "  tf.keras.layers.Dense(40, activation=\"relu\"),\n",
    "  tf.keras.layers.Dense(1)\n",
    "])\n",
    "model.summary()"
   ]
  },
  {
   "cell_type": "code",
   "execution_count": 478,
   "metadata": {},
   "outputs": [],
   "source": [
    "model.compile(loss=\"mean_squared_error\", optimizer=\"adam\", metrics=\"mean_absolute_error\")"
   ]
  },
  {
   "cell_type": "code",
   "execution_count": 479,
   "metadata": {},
   "outputs": [],
   "source": [
    "early_stopping = keras.callbacks.EarlyStopping(monitor='loss',\n",
    "                                                    patience=5\n",
    "                                                    )"
   ]
  },
  {
   "cell_type": "code",
   "execution_count": 480,
   "metadata": {},
   "outputs": [
    {
     "name": "stdout",
     "output_type": "stream",
     "text": [
      "Epoch 1/50\n",
      "277/277 [==============================] - 5s 10ms/step - loss: 0.0095 - mean_absolute_error: 0.0633\n",
      "Epoch 2/50\n",
      "277/277 [==============================] - 3s 10ms/step - loss: 0.0029 - mean_absolute_error: 0.0410\n",
      "Epoch 3/50\n",
      "277/277 [==============================] - 3s 10ms/step - loss: 0.0027 - mean_absolute_error: 0.0407\n",
      "Epoch 4/50\n",
      "277/277 [==============================] - 3s 10ms/step - loss: 0.0025 - mean_absolute_error: 0.0381\n",
      "Epoch 5/50\n",
      "277/277 [==============================] - 3s 10ms/step - loss: 0.0026 - mean_absolute_error: 0.0386\n",
      "Epoch 6/50\n",
      "277/277 [==============================] - 3s 10ms/step - loss: 0.0024 - mean_absolute_error: 0.0375\n",
      "Epoch 7/50\n",
      "277/277 [==============================] - 3s 10ms/step - loss: 0.0020 - mean_absolute_error: 0.0338\n",
      "Epoch 8/50\n",
      "277/277 [==============================] - 3s 10ms/step - loss: 0.0020 - mean_absolute_error: 0.0336\n",
      "Epoch 9/50\n",
      "277/277 [==============================] - 3s 10ms/step - loss: 0.0021 - mean_absolute_error: 0.0343\n",
      "Epoch 10/50\n",
      "277/277 [==============================] - 3s 10ms/step - loss: 0.0018 - mean_absolute_error: 0.0329\n",
      "Epoch 11/50\n",
      "277/277 [==============================] - 3s 11ms/step - loss: 0.0017 - mean_absolute_error: 0.0307\n",
      "Epoch 12/50\n",
      "277/277 [==============================] - 3s 11ms/step - loss: 0.0017 - mean_absolute_error: 0.0311\n",
      "Epoch 13/50\n",
      "277/277 [==============================] - 3s 11ms/step - loss: 0.0018 - mean_absolute_error: 0.0319\n",
      "Epoch 14/50\n",
      "277/277 [==============================] - 3s 11ms/step - loss: 0.0019 - mean_absolute_error: 0.0331\n",
      "Epoch 15/50\n",
      "277/277 [==============================] - 3s 11ms/step - loss: 0.0019 - mean_absolute_error: 0.0328\n",
      "Epoch 16/50\n",
      "277/277 [==============================] - 3s 11ms/step - loss: 0.0019 - mean_absolute_error: 0.0326\n"
     ]
    },
    {
     "data": {
      "text/plain": [
       "<tensorflow.python.keras.callbacks.History at 0x1e89c380b20>"
      ]
     },
     "execution_count": 480,
     "metadata": {},
     "output_type": "execute_result"
    }
   ],
   "source": [
    "model.fit(x_train,y_train, epochs=50, batch_size=2, callbacks=[early_stopping])"
   ]
  },
  {
   "cell_type": "code",
   "execution_count": 481,
   "metadata": {},
   "outputs": [],
   "source": [
    "predictions = model.predict(x_test)\n",
    "unscalledPredictions = predictions.tolist()\n",
    "unscalledPredictions = scaler_y.inverse_transform(unscalledPredictions)"
   ]
  },
  {
   "cell_type": "code",
   "execution_count": 482,
   "metadata": {},
   "outputs": [],
   "source": [
    "unscalledTest = y_test.tolist()\n",
    "unscalledTest = scaler_y.inverse_transform(unscalledTest)"
   ]
  },
  {
   "cell_type": "code",
   "execution_count": 483,
   "metadata": {},
   "outputs": [
    {
     "data": {
      "text/plain": [
       "353.2005679684878"
      ]
     },
     "execution_count": 483,
     "metadata": {},
     "output_type": "execute_result"
    }
   ],
   "source": [
    "metrics.max_error(unscalledTest, unscalledPredictions)"
   ]
  },
  {
   "cell_type": "code",
   "execution_count": 484,
   "metadata": {},
   "outputs": [
    {
     "data": {
      "text/plain": [
       "97.813162180796"
      ]
     },
     "execution_count": 484,
     "metadata": {},
     "output_type": "execute_result"
    }
   ],
   "source": [
    "metrics.mean_absolute_error(unscalledTest, unscalledPredictions)"
   ]
  },
  {
   "cell_type": "code",
   "execution_count": 485,
   "metadata": {},
   "outputs": [],
   "source": [
    "y_pred = np.reshape(unscalledPredictions, 28).tolist()\n",
    "y = np.reshape(unscalledTest, 28).tolist()"
   ]
  },
  {
   "cell_type": "code",
   "execution_count": 486,
   "metadata": {},
   "outputs": [],
   "source": [
    "base = dt.datetime(2022, 8, 7)\n",
    "date_list = [base - dt.timedelta(days=x) for x in range(28)]\n",
    "date_list.reverse()"
   ]
  },
  {
   "cell_type": "code",
   "execution_count": 487,
   "metadata": {},
   "outputs": [
    {
     "data": {
      "image/png": "[encoded data removed]",
      "text/plain": [
       "<Figure size 432x288 with 1 Axes>"
      ]
     },
     "metadata": {},
     "output_type": "display_data"
    },
    {
     "data": {
      "image/png": "[encoded data removed]",
      "text/plain": [
       "<Figure size 1080x720 with 1 Axes>"
      ]
     },
     "metadata": {},
     "output_type": "display_data"
    }
   ],
   "source": [
    "fig = plt.figure()\n",
    "ax = plt.axes()\n",
    "plt.subplots(figsize=(15,10))\n",
    "plt.title(\"Real Price / Predicted Price\")\n",
    "plt.xlabel(\"Date\")\n",
    "plt.ylabel(\"USD\")\n",
    "plt.plot(date_list, y, label=\"Real Price\")\n",
    "plt.plot(date_list, y_pred, label=\"Predicted Price\")\n",
    "plt.gcf().autofmt_xdate()\n",
    "plt.legend()\n",
    "plt.savefig('LTSMinitialPrediction.jpg')"
   ]
  },
  {
   "cell_type": "code",
   "execution_count": null,
   "metadata": {},
   "outputs": [],
   "source": []
  },
  {
   "cell_type": "code",
   "execution_count": 708,
   "metadata": {},
   "outputs": [],
   "source": [
    "gbrPred = pd.read_csv(\"GBRpredictions.csv\")"
   ]
  },
  {
   "cell_type": "code",
   "execution_count": 713,
   "metadata": {},
   "outputs": [],
   "source": [
    "y_gbr = []\n",
    "for item in gbrPred[\"0\"]:\n",
    "    y_gbr.append(item)"
   ]
  },
  {
   "cell_type": "code",
   "execution_count": 710,
   "metadata": {},
   "outputs": [
    {
     "data": {
      "text/plain": [
       "[1082.336181819439,\n",
       " 1058.1219535810128,\n",
       " 1054.9133886072038,\n",
       " 1075.576135835126,\n",
       " 1142.289857276678,\n",
       " 1164.8684920632838,\n",
       " 1197.2281741058825,\n",
       " 1232.1723073208332,\n",
       " 1384.6396346187591,\n",
       " 1472.8201036059857,\n",
       " 1517.649035462141,\n",
       " 1502.5189167892931,\n",
       " 1526.2132748055458,\n",
       " 1504.3071489977835,\n",
       " 1598.3540713095665,\n",
       " 1481.5240114808082,\n",
       " 1450.0860917448997,\n",
       " 1532.0912699508667,\n",
       " 1691.3798133206367,\n",
       " 1668.0048345685004,\n",
       " 1659.2120505070686,\n",
       " 1658.7289607238768,\n",
       " 1629.4704867529867,\n",
       " 1673.3108220767974,\n",
       " 1637.333758404255,\n",
       " 1595.098527843952,\n",
       " 1689.9595026910304,\n",
       " 1680.0879125595093]"
      ]
     },
     "execution_count": 710,
     "metadata": {},
     "output_type": "execute_result"
    }
   ],
   "source": [
    "y_pred"
   ]
  },
  {
   "cell_type": "code",
   "execution_count": 714,
   "metadata": {},
   "outputs": [
    {
     "data": {
      "text/plain": [
       "[1146.5120277905507,\n",
       " 1045.220237795289,\n",
       " 1042.3933897391285,\n",
       " 1110.3151916792938,\n",
       " 1187.6768307093464,\n",
       " 1248.619139442523,\n",
       " 1249.9247390181094,\n",
       " 1378.2012272726067,\n",
       " 1598.9449556891682,\n",
       " 1523.3132302927895,\n",
       " 1570.7607376599185,\n",
       " 1554.3481476964907,\n",
       " 1543.2681313939013,\n",
       " 1512.5871957376305,\n",
       " 1647.9227256916113,\n",
       " 1421.8270875112476,\n",
       " 1438.7513935086092,\n",
       " 1596.6960101098455,\n",
       " 1740.6494140917864,\n",
       " 1690.0717321146567,\n",
       " 1773.9496438803862,\n",
       " 1664.6818729406946,\n",
       " 1639.2726808709106,\n",
       " 1603.7018450561193,\n",
       " 1637.9204757006487,\n",
       " 1623.295341435199,\n",
       " 1721.8713026078274,\n",
       " 1717.5218119454394]"
      ]
     },
     "execution_count": 714,
     "metadata": {},
     "output_type": "execute_result"
    }
   ],
   "source": [
    "y_gbr"
   ]
  },
  {
   "cell_type": "code",
   "execution_count": 715,
   "metadata": {},
   "outputs": [
    {
     "data": {
      "image/png": "[encoded data removed]",
      "text/plain": [
       "<Figure size 432x288 with 1 Axes>"
      ]
     },
     "metadata": {},
     "output_type": "display_data"
    },
    {
     "data": {
      "image/png": "[encoded data removed]",
      "text/plain": [
       "<Figure size 1080x720 with 1 Axes>"
      ]
     },
     "metadata": {},
     "output_type": "display_data"
    }
   ],
   "source": [
    "fig = plt.figure()\n",
    "ax = plt.axes()\n",
    "plt.subplots(figsize=(15,10))\n",
    "plt.title(\"Real Price / Predicted Price\")\n",
    "plt.xlabel(\"Date\")\n",
    "plt.ylabel(\"USD\")\n",
    "plt.plot(date_list, y, label=\"Real Price\")\n",
    "plt.plot(date_list, y_pred, label=\"Predicted Price LTSM\")\n",
    "plt.plot(date_list, y_gbr, label=\"Predicted Price GBR\")\n",
    "plt.gcf().autofmt_xdate()\n",
    "plt.legend()\n",
    "plt.savefig('ComparisonPrediction.jpg')"
   ]
  },
  {
   "cell_type": "code",
   "execution_count": null,
   "metadata": {},
   "outputs": [],
   "source": []
  }
 ],
 "metadata": {
  "kernelspec": {
   "display_name": "Python 3",
   "language": "python",
   "name": "python3"
  },
  "language_info": {
   "codemirror_mode": {
    "name": "ipython",
    "version": 3
   },
   "file_extension": ".py",
   "mimetype": "text/x-python",
   "name": "python",
   "nbconvert_exporter": "python",
   "pygments_lexer": "ipython3",
   "version": "3.8.5"
  }
 },
 "nbformat": 4,
 "nbformat_minor": 4
}
